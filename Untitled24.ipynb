{
  "nbformat": 4,
  "nbformat_minor": 0,
  "metadata": {
    "colab": {
      "provenance": [],
      "authorship_tag": "ABX9TyNrtAUoVcS2TeHnzuLGQzbf",
      "include_colab_link": true
    },
    "kernelspec": {
      "name": "python3",
      "display_name": "Python 3"
    },
    "language_info": {
      "name": "python"
    }
  },
  "cells": [
    {
      "cell_type": "markdown",
      "metadata": {
        "id": "view-in-github",
        "colab_type": "text"
      },
      "source": [
        "<a href=\"https://colab.research.google.com/github/rajjadhav7348/Digi/blob/main/Untitled24.ipynb\" target=\"_parent\"><img src=\"https://colab.research.google.com/assets/colab-badge.svg\" alt=\"Open In Colab\"/></a>"
      ]
    },
    {
      "cell_type": "code",
      "execution_count": 11,
      "metadata": {
        "colab": {
          "base_uri": "https://localhost:8080/"
        },
        "id": "7prBgglUN28I",
        "outputId": "28848781-a909-4d6c-d22f-35cbf6c76155"
      },
      "outputs": [
        {
          "output_type": "stream",
          "name": "stdout",
          "text": [
            "Requirement already satisfied: scikit-surprise in /usr/local/lib/python3.11/dist-packages (1.1.4)\n",
            "Requirement already satisfied: joblib>=1.2.0 in /usr/local/lib/python3.11/dist-packages (from scikit-surprise) (1.5.1)\n",
            "Requirement already satisfied: numpy>=1.19.5 in /usr/local/lib/python3.11/dist-packages (from scikit-surprise) (1.26.0)\n",
            "Requirement already satisfied: scipy>=1.6.0 in /usr/local/lib/python3.11/dist-packages (from scikit-surprise) (1.15.3)\n"
          ]
        }
      ],
      "source": [
        "pip install scikit-surprise\n"
      ]
    },
    {
      "cell_type": "code",
      "source": [
        "import pandas as pd\n",
        "import numpy as np\n",
        "import matplotlib.pyplot as plt\n",
        "from collections import defaultdict\n",
        "from surprise import Dataset, Reader, SVD, KNNBasic\n",
        "from surprise.model_selection import train_test_split, cross_validate\n",
        "from surprise import accuracy"
      ],
      "metadata": {
        "id": "HgeXtlnyPqrY"
      },
      "execution_count": 2,
      "outputs": []
    },
    {
      "cell_type": "code",
      "source": [
        "data = Dataset.load_builtin('ml-100k')"
      ],
      "metadata": {
        "colab": {
          "base_uri": "https://localhost:8080/"
        },
        "id": "UyNnW9YBRYLv",
        "outputId": "c383f10a-3596-43ef-efc6-dc6513be27b0"
      },
      "execution_count": 4,
      "outputs": [
        {
          "output_type": "stream",
          "name": "stdout",
          "text": [
            "Dataset ml-100k could not be found. Do you want to download it? [Y/n] y\n",
            "Trying to download dataset from https://files.grouplens.org/datasets/movielens/ml-100k.zip...\n",
            "Done! Dataset ml-100k has been saved to /root/.surprise_data/ml-100k\n"
          ]
        }
      ]
    },
    {
      "cell_type": "code",
      "source": [
        "trainset, testset = train_test_split(data, test_size=0.2, random_state=42)"
      ],
      "metadata": {
        "id": "EjY-LDblRaKk"
      },
      "execution_count": 5,
      "outputs": []
    },
    {
      "cell_type": "code",
      "source": [
        "svd_model = SVD()\n",
        "svd_model.fit(trainset)\n",
        "pred_svd = svd_model.test(testset)\n",
        "rmse_svd = accuracy.rmse(pred_svd)\n",
        "mae_svd = accuracy.mae(pred_svd)"
      ],
      "metadata": {
        "colab": {
          "base_uri": "https://localhost:8080/"
        },
        "id": "QeNF7SqZRaHD",
        "outputId": "85bbc582-1e3a-4c6a-e4eb-609912838743"
      },
      "execution_count": 6,
      "outputs": [
        {
          "output_type": "stream",
          "name": "stdout",
          "text": [
            "RMSE: 0.9358\n",
            "MAE:  0.7356\n"
          ]
        }
      ]
    },
    {
      "cell_type": "code",
      "source": [
        "sim_options = {\n",
        "    'name': 'cosine',\n",
        "    'user_based': True\n",
        "}\n",
        "knn_model = KNNBasic(sim_options=sim_options)\n",
        "knn_model.fit(trainset)\n",
        "pred_knn = knn_model.test(testset)\n",
        "rmse_knn = accuracy.rmse(pred_knn)\n",
        "mae_knn = accuracy.mae(pred_knn)"
      ],
      "metadata": {
        "colab": {
          "base_uri": "https://localhost:8080/"
        },
        "id": "WX6dzx-2Rp2X",
        "outputId": "0145ed79-db16-4a32-f240-f76f9e225000"
      },
      "execution_count": 7,
      "outputs": [
        {
          "output_type": "stream",
          "name": "stdout",
          "text": [
            "Computing the cosine similarity matrix...\n",
            "Done computing similarity matrix.\n",
            "RMSE: 1.0194\n",
            "MAE:  0.8038\n"
          ]
        }
      ]
    },
    {
      "cell_type": "code",
      "source": [
        "def get_top_n(predictions, n=5):\n",
        "    top_n = defaultdict(list)\n",
        "    for uid, iid, true_r, est, _ in predictions:\n",
        "        top_n[uid].append((iid, est))\n",
        "    for uid, user_ratings in top_n.items():\n",
        "        user_ratings.sort(key=lambda x: x[1], reverse=True)\n",
        "        top_n[uid] = user_ratings[:n]\n",
        "    return top_n\n",
        "\n",
        "top_n_svd = get_top_n(pred_svd, n=5)"
      ],
      "metadata": {
        "id": "3fimfof0Rpyy"
      },
      "execution_count": 8,
      "outputs": []
    },
    {
      "cell_type": "code",
      "source": [
        "for uid, user_recs in list(top_n_svd.items())[:1]:\n",
        "    print(f\"Top 5 recommendations for user {uid}:\")\n",
        "    for iid, score in user_recs:\n",
        "        print(f\"Movie ID: {iid}, Predicted Rating: {score:.2f}\")"
      ],
      "metadata": {
        "colab": {
          "base_uri": "https://localhost:8080/"
        },
        "id": "TAVbyCRgRpwr",
        "outputId": "5c684502-b839-4d3e-f329-9cf09f95a7be"
      },
      "execution_count": 9,
      "outputs": [
        {
          "output_type": "stream",
          "name": "stdout",
          "text": [
            "Top 5 recommendations for user 907:\n",
            "Movie ID: 173, Predicted Rating: 5.00\n",
            "Movie ID: 79, Predicted Rating: 5.00\n",
            "Movie ID: 647, Predicted Rating: 5.00\n",
            "Movie ID: 98, Predicted Rating: 5.00\n",
            "Movie ID: 144, Predicted Rating: 4.97\n"
          ]
        }
      ]
    },
    {
      "cell_type": "code",
      "source": [
        "def plot_metrics(rmse_svd, mae_svd, rmse_knn, mae_knn):\n",
        "    labels = ['SVD', 'KNN']\n",
        "    rmse_values = [rmse_svd, rmse_knn]\n",
        "    mae_values = [mae_svd, mae_knn]\n",
        "\n",
        "    x = np.arange(len(labels))\n",
        "    width = 0.35\n",
        "\n",
        "    fig, ax = plt.subplots()\n",
        "    ax.bar(x - width/2, rmse_values, width, label='RMSE')\n",
        "    ax.bar(x + width/2, mae_values, width, label='MAE')\n",
        "\n",
        "    ax.set_ylabel('Scores')\n",
        "    ax.set_title('Model Evaluation Metrics')\n",
        "    ax.set_xticks(x)\n",
        "    ax.set_xticklabels(labels)\n",
        "    ax.legend()\n",
        "    plt.show()\n",
        "\n",
        "plot_metrics(rmse_svd, mae_svd, rmse_knn, mae_knn)"
      ],
      "metadata": {
        "colab": {
          "base_uri": "https://localhost:8080/",
          "height": 452
        },
        "id": "aAcIzSjpRZzR",
        "outputId": "c34137ea-6bd8-4e0e-fe63-516e4d0fe224"
      },
      "execution_count": 10,
      "outputs": [
        {
          "output_type": "display_data",
          "data": {
            "text/plain": [
              "<Figure size 640x480 with 1 Axes>"
            ],
            "image/png": "[encoded data removed]"
          },
          "metadata": {}
        }
      ]
    }
  ]
}